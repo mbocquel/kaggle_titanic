{
 "cells": [
  {
   "cell_type": "code",
   "execution_count": 186,
   "id": "93192348",
   "metadata": {},
   "outputs": [],
   "source": [
    "import numpy as np\n",
    "import pandas as pd\n",
    "import torch\n",
    "import matplotlib.pyplot as plt\n",
    "import torch.nn as nn"
   ]
  },
  {
   "cell_type": "markdown",
   "id": "e6277a81",
   "metadata": {},
   "source": [
    "# Idees de resolutions\n",
    "je vais essayer une approche croisee entre trois solutions : \n",
    "- Une random forest\n",
    "- Un regression logistic\n",
    "- Un reseau de neurones avec des calques denses assez simples\n",
    "\n",
    "Dans l'idee je voudrais que les modeles aient des accuracy pas tres eloignes, et je ferai voter mes models pour la meilleure solution possible"
   ]
  },
  {
   "cell_type": "code",
   "execution_count": 2,
   "id": "749c2508",
   "metadata": {},
   "outputs": [],
   "source": [
    "device = torch.device(\"mps\" if torch.backends.mps.is_available() else \"cpu\")"
   ]
  },
  {
   "cell_type": "markdown",
   "id": "b99db001",
   "metadata": {},
   "source": [
    "# Analyse du dataset"
   ]
  },
  {
   "cell_type": "code",
   "execution_count": 3,
   "id": "999f2300",
   "metadata": {},
   "outputs": [
    {
     "data": {
      "text/html": [
       "<div>\n",
       "<style scoped>\n",
       "    .dataframe tbody tr th:only-of-type {\n",
       "        vertical-align: middle;\n",
       "    }\n",
       "\n",
       "    .dataframe tbody tr th {\n",
       "        vertical-align: top;\n",
       "    }\n",
       "\n",
       "    .dataframe thead th {\n",
       "        text-align: right;\n",
       "    }\n",
       "</style>\n",
       "<table border=\"1\" class=\"dataframe\">\n",
       "  <thead>\n",
       "    <tr style=\"text-align: right;\">\n",
       "      <th></th>\n",
       "      <th>PassengerId</th>\n",
       "      <th>Survived</th>\n",
       "      <th>Pclass</th>\n",
       "      <th>Name</th>\n",
       "      <th>Sex</th>\n",
       "      <th>Age</th>\n",
       "      <th>SibSp</th>\n",
       "      <th>Parch</th>\n",
       "      <th>Ticket</th>\n",
       "      <th>Fare</th>\n",
       "      <th>Cabin</th>\n",
       "      <th>Embarked</th>\n",
       "    </tr>\n",
       "  </thead>\n",
       "  <tbody>\n",
       "    <tr>\n",
       "      <th>0</th>\n",
       "      <td>1</td>\n",
       "      <td>0</td>\n",
       "      <td>3</td>\n",
       "      <td>Braund, Mr. Owen Harris</td>\n",
       "      <td>male</td>\n",
       "      <td>22.0</td>\n",
       "      <td>1</td>\n",
       "      <td>0</td>\n",
       "      <td>A/5 21171</td>\n",
       "      <td>7.2500</td>\n",
       "      <td>NaN</td>\n",
       "      <td>S</td>\n",
       "    </tr>\n",
       "    <tr>\n",
       "      <th>1</th>\n",
       "      <td>2</td>\n",
       "      <td>1</td>\n",
       "      <td>1</td>\n",
       "      <td>Cumings, Mrs. John Bradley (Florence Briggs Th...</td>\n",
       "      <td>female</td>\n",
       "      <td>38.0</td>\n",
       "      <td>1</td>\n",
       "      <td>0</td>\n",
       "      <td>PC 17599</td>\n",
       "      <td>71.2833</td>\n",
       "      <td>C85</td>\n",
       "      <td>C</td>\n",
       "    </tr>\n",
       "    <tr>\n",
       "      <th>2</th>\n",
       "      <td>3</td>\n",
       "      <td>1</td>\n",
       "      <td>3</td>\n",
       "      <td>Heikkinen, Miss. Laina</td>\n",
       "      <td>female</td>\n",
       "      <td>26.0</td>\n",
       "      <td>0</td>\n",
       "      <td>0</td>\n",
       "      <td>STON/O2. 3101282</td>\n",
       "      <td>7.9250</td>\n",
       "      <td>NaN</td>\n",
       "      <td>S</td>\n",
       "    </tr>\n",
       "    <tr>\n",
       "      <th>3</th>\n",
       "      <td>4</td>\n",
       "      <td>1</td>\n",
       "      <td>1</td>\n",
       "      <td>Futrelle, Mrs. Jacques Heath (Lily May Peel)</td>\n",
       "      <td>female</td>\n",
       "      <td>35.0</td>\n",
       "      <td>1</td>\n",
       "      <td>0</td>\n",
       "      <td>113803</td>\n",
       "      <td>53.1000</td>\n",
       "      <td>C123</td>\n",
       "      <td>S</td>\n",
       "    </tr>\n",
       "    <tr>\n",
       "      <th>4</th>\n",
       "      <td>5</td>\n",
       "      <td>0</td>\n",
       "      <td>3</td>\n",
       "      <td>Allen, Mr. William Henry</td>\n",
       "      <td>male</td>\n",
       "      <td>35.0</td>\n",
       "      <td>0</td>\n",
       "      <td>0</td>\n",
       "      <td>373450</td>\n",
       "      <td>8.0500</td>\n",
       "      <td>NaN</td>\n",
       "      <td>S</td>\n",
       "    </tr>\n",
       "    <tr>\n",
       "      <th>...</th>\n",
       "      <td>...</td>\n",
       "      <td>...</td>\n",
       "      <td>...</td>\n",
       "      <td>...</td>\n",
       "      <td>...</td>\n",
       "      <td>...</td>\n",
       "      <td>...</td>\n",
       "      <td>...</td>\n",
       "      <td>...</td>\n",
       "      <td>...</td>\n",
       "      <td>...</td>\n",
       "      <td>...</td>\n",
       "    </tr>\n",
       "    <tr>\n",
       "      <th>886</th>\n",
       "      <td>887</td>\n",
       "      <td>0</td>\n",
       "      <td>2</td>\n",
       "      <td>Montvila, Rev. Juozas</td>\n",
       "      <td>male</td>\n",
       "      <td>27.0</td>\n",
       "      <td>0</td>\n",
       "      <td>0</td>\n",
       "      <td>211536</td>\n",
       "      <td>13.0000</td>\n",
       "      <td>NaN</td>\n",
       "      <td>S</td>\n",
       "    </tr>\n",
       "    <tr>\n",
       "      <th>887</th>\n",
       "      <td>888</td>\n",
       "      <td>1</td>\n",
       "      <td>1</td>\n",
       "      <td>Graham, Miss. Margaret Edith</td>\n",
       "      <td>female</td>\n",
       "      <td>19.0</td>\n",
       "      <td>0</td>\n",
       "      <td>0</td>\n",
       "      <td>112053</td>\n",
       "      <td>30.0000</td>\n",
       "      <td>B42</td>\n",
       "      <td>S</td>\n",
       "    </tr>\n",
       "    <tr>\n",
       "      <th>888</th>\n",
       "      <td>889</td>\n",
       "      <td>0</td>\n",
       "      <td>3</td>\n",
       "      <td>Johnston, Miss. Catherine Helen \"Carrie\"</td>\n",
       "      <td>female</td>\n",
       "      <td>NaN</td>\n",
       "      <td>1</td>\n",
       "      <td>2</td>\n",
       "      <td>W./C. 6607</td>\n",
       "      <td>23.4500</td>\n",
       "      <td>NaN</td>\n",
       "      <td>S</td>\n",
       "    </tr>\n",
       "    <tr>\n",
       "      <th>889</th>\n",
       "      <td>890</td>\n",
       "      <td>1</td>\n",
       "      <td>1</td>\n",
       "      <td>Behr, Mr. Karl Howell</td>\n",
       "      <td>male</td>\n",
       "      <td>26.0</td>\n",
       "      <td>0</td>\n",
       "      <td>0</td>\n",
       "      <td>111369</td>\n",
       "      <td>30.0000</td>\n",
       "      <td>C148</td>\n",
       "      <td>C</td>\n",
       "    </tr>\n",
       "    <tr>\n",
       "      <th>890</th>\n",
       "      <td>891</td>\n",
       "      <td>0</td>\n",
       "      <td>3</td>\n",
       "      <td>Dooley, Mr. Patrick</td>\n",
       "      <td>male</td>\n",
       "      <td>32.0</td>\n",
       "      <td>0</td>\n",
       "      <td>0</td>\n",
       "      <td>370376</td>\n",
       "      <td>7.7500</td>\n",
       "      <td>NaN</td>\n",
       "      <td>Q</td>\n",
       "    </tr>\n",
       "  </tbody>\n",
       "</table>\n",
       "<p>891 rows × 12 columns</p>\n",
       "</div>"
      ],
      "text/plain": [
       "     PassengerId  Survived  Pclass  \\\n",
       "0              1         0       3   \n",
       "1              2         1       1   \n",
       "2              3         1       3   \n",
       "3              4         1       1   \n",
       "4              5         0       3   \n",
       "..           ...       ...     ...   \n",
       "886          887         0       2   \n",
       "887          888         1       1   \n",
       "888          889         0       3   \n",
       "889          890         1       1   \n",
       "890          891         0       3   \n",
       "\n",
       "                                                  Name     Sex   Age  SibSp  \\\n",
       "0                              Braund, Mr. Owen Harris    male  22.0      1   \n",
       "1    Cumings, Mrs. John Bradley (Florence Briggs Th...  female  38.0      1   \n",
       "2                               Heikkinen, Miss. Laina  female  26.0      0   \n",
       "3         Futrelle, Mrs. Jacques Heath (Lily May Peel)  female  35.0      1   \n",
       "4                             Allen, Mr. William Henry    male  35.0      0   \n",
       "..                                                 ...     ...   ...    ...   \n",
       "886                              Montvila, Rev. Juozas    male  27.0      0   \n",
       "887                       Graham, Miss. Margaret Edith  female  19.0      0   \n",
       "888           Johnston, Miss. Catherine Helen \"Carrie\"  female   NaN      1   \n",
       "889                              Behr, Mr. Karl Howell    male  26.0      0   \n",
       "890                                Dooley, Mr. Patrick    male  32.0      0   \n",
       "\n",
       "     Parch            Ticket     Fare Cabin Embarked  \n",
       "0        0         A/5 21171   7.2500   NaN        S  \n",
       "1        0          PC 17599  71.2833   C85        C  \n",
       "2        0  STON/O2. 3101282   7.9250   NaN        S  \n",
       "3        0            113803  53.1000  C123        S  \n",
       "4        0            373450   8.0500   NaN        S  \n",
       "..     ...               ...      ...   ...      ...  \n",
       "886      0            211536  13.0000   NaN        S  \n",
       "887      0            112053  30.0000   B42        S  \n",
       "888      2        W./C. 6607  23.4500   NaN        S  \n",
       "889      0            111369  30.0000  C148        C  \n",
       "890      0            370376   7.7500   NaN        Q  \n",
       "\n",
       "[891 rows x 12 columns]"
      ]
     },
     "execution_count": 3,
     "metadata": {},
     "output_type": "execute_result"
    }
   ],
   "source": [
    "df = pd.read_csv(\"data/train.csv\")\n",
    "df"
   ]
  },
  {
   "cell_type": "markdown",
   "id": "399e5606",
   "metadata": {},
   "source": [
    "- survival -> Survival\t0 = No, 1 = Yes\n",
    "- pclass\tTicket class\t1 = 1st, 2 = 2nd, 3 = 3rd\n",
    "- sex\tSex\t\n",
    "- Age\tAge in years\t\n",
    "- sibsp\t# of siblings / spouses aboard the Titanic\t\n",
    "- parch\t# of parents / children aboard the Titanic\t\n",
    "- ticket\tTicket number\t\n",
    "- fare\tPassenger fare\t\n",
    "- cabin\tCabin number\t\n",
    "- embarked\tPort of Embarkation\tC = Cherbourg, Q = Queenstown, S = Southampton"
   ]
  },
  {
   "cell_type": "code",
   "execution_count": 10,
   "id": "247ceafd",
   "metadata": {},
   "outputs": [],
   "source": [
    "df_survived = df.loc[df[\"Survived\"] == 1, :]\n",
    "df_dead = df.loc[df[\"Survived\"] == 0, :]\n"
   ]
  },
  {
   "cell_type": "markdown",
   "id": "af6ecabe",
   "metadata": {},
   "source": [
    "## Missing Data"
   ]
  },
  {
   "cell_type": "code",
   "execution_count": 75,
   "id": "be43dc4e",
   "metadata": {},
   "outputs": [
    {
     "name": "stdout",
     "output_type": "stream",
     "text": [
      "Age\n",
      "\tPart of passengers with no information on the age 19.87 %\n",
      "\tPart of survived passengers with no information on the age 15.2 %\n",
      "\tPart of dead passengers with no information on the age 22.77 %\n",
      "\n",
      "Passenger Class\n",
      "\tPart of passengers with no information on the Class 0.0 %\n",
      "\n",
      "Sex\n",
      "\tPart of passengers with no information on the Sex 0.0 %\n",
      "\n",
      "Siblings spouses aboard the Titanic\n",
      "\tPart of passengers with no information on the Siblings spouses aboard the Titanic 0.0 %\n",
      "\n",
      "Parents or children aboard the Titanic\n",
      "\tPart of passengers with no information on the Parents or children aboard the Titanic 0.0 %\n",
      "\n",
      "Fare\n",
      "\tPart of passengers with no information on the Fare 0.0 %\n",
      "\n",
      "Cabin\n",
      "\tPart of passengers with no information on the Cabin 77.1 %\n",
      "\tPart of survived passengers with no information on the Cabin 60.23 %\n",
      "\tPart of dead passengers with no information on the Cabin 87.61 %\n",
      "\n",
      "Embarked\n",
      "\tPart of passengers with no information on the Embarked 0.22 %\n"
     ]
    }
   ],
   "source": [
    "print(\"Age\")\n",
    "print(\"\tPart of passengers with no information on the age\", round((sum(df[\"Age\"].isna()) /  df[\"Age\"].shape[0]) * 100, 2),\"%\")\n",
    "print(\"\tPart of survived passengers with no information on the age\", round((sum(df_survived[\"Age\"].isna()) /  df_survived[\"Age\"].shape[0]) * 100, 2),\"%\")\n",
    "print(\"\tPart of dead passengers with no information on the age\", round((sum(df_dead[\"Age\"].isna()) /  df_dead[\"Age\"].shape[0]) * 100, 2),\"%\")\n",
    "\n",
    "print()\n",
    "print(\"Passenger Class\")\n",
    "print(\"\tPart of passengers with no information on the Class\", round((sum(df[\"Pclass\"].isna()) /  df[\"Pclass\"].shape[0]) * 100, 2),\"%\")\n",
    "\n",
    "print()\n",
    "print(\"Sex\")\n",
    "print(\"\tPart of passengers with no information on the Sex\", round((sum(df[\"Sex\"].isna()) /  df[\"Sex\"].shape[0]) * 100, 2),\"%\")\n",
    "\n",
    "print()\n",
    "print(\"Siblings spouses aboard the Titanic\")\n",
    "print(\"\tPart of passengers with no information on the Siblings spouses aboard the Titanic\", round((sum(df[\"SibSp\"].isna()) /  df[\"SibSp\"].shape[0]) * 100, 2),\"%\")\n",
    "\n",
    "print()\n",
    "print(\"Parents or children aboard the Titanic\")\n",
    "print(\"\tPart of passengers with no information on the Parents or children aboard the Titanic\", round((sum(df[\"Parch\"].isna()) /  df[\"Parch\"].shape[0]) * 100, 2),\"%\")\n",
    "\n",
    "print()\n",
    "print(\"Fare\")\n",
    "print(\"\tPart of passengers with no information on the Fare\", round((sum(df[\"Fare\"].isna()) /  df[\"Fare\"].shape[0]) * 100, 2),\"%\")\n",
    "\n",
    "print()\n",
    "print(\"Cabin\")\n",
    "print(\"\tPart of passengers with no information on the Cabin\", round((sum(df[\"Cabin\"].isna()) /  df[\"Cabin\"].shape[0]) * 100, 2),\"%\")\n",
    "print(\"\tPart of survived passengers with no information on the Cabin\", round((sum(df_survived[\"Cabin\"].isna()) /  df_survived[\"Cabin\"].shape[0]) * 100, 2),\"%\")\n",
    "print(\"\tPart of dead passengers with no information on the Cabin\", round((sum(df_dead[\"Cabin\"].isna()) /  df_dead[\"Cabin\"].shape[0]) * 100, 2),\"%\")\n",
    "\n",
    "print()\n",
    "print(\"Embarked\")\n",
    "print(\"\tPart of passengers with no information on the Embarked\", round((sum(df[\"Embarked\"].isna()) /  df[\"Embarked\"].shape[0]) * 100, 2),\"%\")\n",
    "\n"
   ]
  },
  {
   "cell_type": "markdown",
   "id": "f2282f56",
   "metadata": {},
   "source": [
    "There is too much missing data on the Cabin, I won't be using it now."
   ]
  },
  {
   "cell_type": "markdown",
   "id": "ae0bdb6a",
   "metadata": {},
   "source": [
    "## Gender and Passenger Class"
   ]
  },
  {
   "cell_type": "code",
   "execution_count": 36,
   "id": "7fc2bb43",
   "metadata": {},
   "outputs": [
    {
     "data": {
      "image/png": "[encoded data removed]",
      "text/plain": [
       "<Figure size 640x480 with 1 Axes>"
      ]
     },
     "metadata": {},
     "output_type": "display_data"
    }
   ],
   "source": [
    "gender = ('Male', 'Female')\n",
    "counts = {\n",
    "    'Dead': np.array([ sum(df_dead[\"Sex\"] == \"male\"), sum(df_dead[\"Sex\"] == \"female\")]),\n",
    "    'Survived': np.array([sum(df_survived[\"Sex\"] == \"male\"), sum(df_survived[\"Sex\"] == \"female\")]),\n",
    "}\n",
    "width = 0.6  # the width of the bars: can also be len(x) sequence\n",
    "\n",
    "fig, ax = plt.subplots()\n",
    "bottom = np.zeros(2)\n",
    "for output, count in counts.items():\n",
    "    p = ax.bar(gender, count, width, label=output, bottom=bottom)\n",
    "    bottom += count\n",
    "\n",
    "    ax.bar_label(p, label_type='center')\n",
    "\n",
    "ax.set_title('Dead or not by gender ')\n",
    "ax.legend()\n",
    "plt.show()"
   ]
  },
  {
   "cell_type": "code",
   "execution_count": 43,
   "id": "fd799ad7",
   "metadata": {},
   "outputs": [
    {
     "data": {
      "image/png": "[encoded data removed]",
      "text/plain": [
       "<Figure size 640x480 with 1 Axes>"
      ]
     },
     "metadata": {},
     "output_type": "display_data"
    }
   ],
   "source": [
    "men_ok = df_survived[df_survived[\"Sex\"] == \"male\"]\n",
    "men_ko = df_dead[df_dead[\"Sex\"] == \"male\"]\n",
    "women_ok = df_survived[df_survived[\"Sex\"] == \"female\"]\n",
    "women_ko = df_dead[df_dead[\"Sex\"] == \"female\"]\n",
    "\n",
    "class_passenger = ('1st class\\nMen', '2nd Class\\nMen', \"3rd class\\nMen\", '1st class\\nWomen', '2nd Class\\nWomen', \"3rd class\\nWomen\")\n",
    "counts = {\n",
    "    'Survived': np.array([sum(men_ok[\"Pclass\"] == 1),\n",
    "                          sum(men_ok[\"Pclass\"] == 2),\n",
    "                          sum(men_ok[\"Pclass\"] == 3),\n",
    "                          sum(women_ok[\"Pclass\"] == 1),\n",
    "                          sum(women_ok[\"Pclass\"] == 2),\n",
    "                          sum(women_ok[\"Pclass\"] == 3)]),\n",
    "    'Died': np.array([sum(men_ko[\"Pclass\"] == 1),\n",
    "                      sum(men_ko[\"Pclass\"] == 2),\n",
    "                      sum(men_ko[\"Pclass\"] == 3),\n",
    "                      sum(women_ko[\"Pclass\"] == 1),\n",
    "                      sum(women_ko[\"Pclass\"] == 2),\n",
    "                      sum(women_ko[\"Pclass\"] == 3)]),\n",
    "}\n",
    "width = 0.6\n",
    "fig, ax = plt.subplots()\n",
    "bottom = np.zeros(6)\n",
    "for output, count in counts.items():\n",
    "    p = ax.bar(class_passenger, count, width, label=output, bottom=bottom)\n",
    "    bottom += count\n",
    "\n",
    "    ax.bar_label(p, label_type='center')\n",
    "\n",
    "ax.set_title('Dead or not by gender ')\n",
    "ax.legend()\n",
    "plt.show()"
   ]
  },
  {
   "cell_type": "markdown",
   "id": "0ddcd5b4",
   "metadata": {},
   "source": [
    "Obviously, gender and passenger class have a very strong impact on the likeliness to survive"
   ]
  },
  {
   "cell_type": "markdown",
   "id": "5acb2cd7",
   "metadata": {},
   "source": [
    "## Age"
   ]
  },
  {
   "cell_type": "code",
   "execution_count": 94,
   "id": "fc01758b",
   "metadata": {},
   "outputs": [
    {
     "data": {
      "image/png": "[encoded data removed]",
      "text/plain": [
       "<Figure size 640x480 with 1 Axes>"
      ]
     },
     "metadata": {},
     "output_type": "display_data"
    }
   ],
   "source": [
    "df_survived_with_age = df_survived.loc[df_survived[\"Age\"].isna() == False]\n",
    "df_dead_with_age = df_dead.loc[df_dead[\"Age\"].isna() == False]\n",
    "\n",
    "plt.title(\"Age\")\n",
    "plt.hist(df_survived_with_age.loc[:,\"Age\"], alpha = 0.5, lw=3, label=\"Survived\", color=\"b\")\n",
    "plt.hist(df_dead_with_age.loc[:,\"Age\"], alpha = 0.5, lw=3, label=\"Dead\", color=\"y\")\n",
    "\n",
    "plt.legend()\n",
    "plt.show()"
   ]
  },
  {
   "cell_type": "markdown",
   "id": "188ef4f1",
   "metadata": {},
   "source": [
    "The age seems to have a strong impact on survival rate, estpecialy for young children, 20 to 30. I may try to train the model by replacing the missing age values by the mean of the dataset. Or by not using these values. "
   ]
  },
  {
   "cell_type": "markdown",
   "id": "4a9fcdfd",
   "metadata": {},
   "source": [
    "# Fare"
   ]
  },
  {
   "cell_type": "code",
   "execution_count": 129,
   "id": "aa0a4091",
   "metadata": {},
   "outputs": [
    {
     "data": {
      "image/png": "[encoded data removed]",
      "text/plain": [
       "<Figure size 640x480 with 1 Axes>"
      ]
     },
     "metadata": {},
     "output_type": "display_data"
    }
   ],
   "source": [
    "plt.title(\"Fare\")\n",
    "plt.hist(df_survived.loc[:,\"Fare\"], alpha = 0.5, lw=3, label=\"Survived\", color=\"b\")\n",
    "plt.hist(df_dead.loc[:,\"Fare\"], alpha = 0.5, lw=3, label=\"Dead\", color=\"y\")\n",
    "\n",
    "plt.legend()\n",
    "plt.show()"
   ]
  },
  {
   "cell_type": "markdown",
   "id": "7ccf5c7b",
   "metadata": {},
   "source": [
    "### Embarked port"
   ]
  },
  {
   "cell_type": "code",
   "execution_count": 125,
   "id": "a3023e1e",
   "metadata": {},
   "outputs": [
    {
     "data": {
      "image/png": "[encoded data removed]",
      "text/plain": [
       "<Figure size 640x480 with 1 Axes>"
      ]
     },
     "metadata": {},
     "output_type": "display_data"
    },
    {
     "data": {
      "image/png": "[encoded data removed]",
      "text/plain": [
       "<Figure size 640x480 with 1 Axes>"
      ]
     },
     "metadata": {},
     "output_type": "display_data"
    }
   ],
   "source": [
    "dead_c_1 = df.loc[(df[\"Embarked\"] == \"C\") & (df[\"Pclass\"] == 1) & (df[\"Survived\"] == 0)].shape[0]\n",
    "dead_c_2 = df.loc[(df[\"Embarked\"] == \"C\") & (df[\"Pclass\"] == 2) & (df[\"Survived\"] == 0)].shape[0]\n",
    "dead_c_3 = df.loc[(df[\"Embarked\"] == \"C\") & (df[\"Pclass\"] == 3) & (df[\"Survived\"] == 0)].shape[0]\n",
    "dead_q_1 = df.loc[(df[\"Embarked\"] == \"Q\") & (df[\"Pclass\"] == 1) & (df[\"Survived\"] == 0)].shape[0]\n",
    "dead_q_2 = df.loc[(df[\"Embarked\"] == \"Q\") & (df[\"Pclass\"] == 2) & (df[\"Survived\"] == 0)].shape[0]\n",
    "dead_q_3 = df.loc[(df[\"Embarked\"] == \"Q\") & (df[\"Pclass\"] == 3) & (df[\"Survived\"] == 0)].shape[0]\n",
    "dead_s_1 = df.loc[(df[\"Embarked\"] == \"S\") & (df[\"Pclass\"] == 1) & (df[\"Survived\"] == 0)].shape[0]\n",
    "dead_s_2 = df.loc[(df[\"Embarked\"] == \"S\") & (df[\"Pclass\"] == 2) & (df[\"Survived\"] == 0)].shape[0]\n",
    "dead_s_3 = df.loc[(df[\"Embarked\"] == \"S\") & (df[\"Pclass\"] == 3) & (df[\"Survived\"] == 0)].shape[0]\n",
    "\n",
    "survived_c_1 = df.loc[(df[\"Embarked\"] == \"C\") & (df[\"Pclass\"] == 1) & (df[\"Survived\"] == 1)].shape[0]\n",
    "survived_c_2 = df.loc[(df[\"Embarked\"] == \"C\") & (df[\"Pclass\"] == 2) & (df[\"Survived\"] == 1)].shape[0]\n",
    "survived_c_3 = df.loc[(df[\"Embarked\"] == \"C\") & (df[\"Pclass\"] == 3) & (df[\"Survived\"] == 1)].shape[0]\n",
    "survived_q_1 = df.loc[(df[\"Embarked\"] == \"Q\") & (df[\"Pclass\"] == 1) & (df[\"Survived\"] == 1)].shape[0]\n",
    "survived_q_2 = df.loc[(df[\"Embarked\"] == \"Q\") & (df[\"Pclass\"] == 2) & (df[\"Survived\"] == 1)].shape[0]\n",
    "survived_q_3 = df.loc[(df[\"Embarked\"] == \"Q\") & (df[\"Pclass\"] == 3) & (df[\"Survived\"] == 1)].shape[0]\n",
    "survived_s_1 = df.loc[(df[\"Embarked\"] == \"S\") & (df[\"Pclass\"] == 1) & (df[\"Survived\"] == 1)].shape[0]\n",
    "survived_s_2 = df.loc[(df[\"Embarked\"] == \"S\") & (df[\"Pclass\"] == 2) & (df[\"Survived\"] == 1)].shape[0]\n",
    "survived_s_3 = df.loc[(df[\"Embarked\"] == \"S\") & (df[\"Pclass\"] == 3) & (df[\"Survived\"] == 1)].shape[0]\n",
    "\n",
    "port = ('C', 'Q', 'S')\n",
    "counts = {\n",
    "    'Dead 1st class': np.array([dead_c_1, dead_q_1, dead_s_1]),\n",
    "    'Dead 2nd class': np.array([dead_c_2, dead_q_2, dead_s_2]),\n",
    "    'Dead 3rd class': np.array([dead_c_3, dead_q_3, dead_s_3]),\n",
    "}\n",
    "width = 0.6  # the width of the bars: can also be len(x) sequence\n",
    "fig, ax = plt.subplots()\n",
    "bottom = np.zeros(3)\n",
    "for output, count in counts.items():\n",
    "    p = ax.bar(port, count, width, label=output, bottom=bottom)\n",
    "    bottom += count\n",
    "    ax.bar_label(p, label_type='center')\n",
    "ax.set_title('Port Dead')\n",
    "ax.legend()\n",
    "plt.show()\n",
    "\n",
    "port = ('C', 'Q', 'S')\n",
    "counts = {\n",
    "    'Survived 1st class': np.array([survived_c_1, survived_q_1, survived_s_1]),\n",
    "    'Survived 2nd class': np.array([survived_c_2, survived_q_2, survived_s_2]),\n",
    "    'Survived 3rd class': np.array([survived_c_3, survived_q_3, survived_s_3]),\n",
    "}\n",
    "width = 0.6  # the width of the bars: can also be len(x) sequence\n",
    "fig, ax = plt.subplots()\n",
    "bottom = np.zeros(3)\n",
    "for output, count in counts.items():\n",
    "    p = ax.bar(port, count, width, label=output, bottom=bottom)\n",
    "    bottom += count\n",
    "    ax.bar_label(p, label_type='center')\n",
    "ax.set_title('Port Survived')\n",
    "ax.legend()\n",
    "plt.show()"
   ]
  },
  {
   "cell_type": "markdown",
   "id": "4f78a27c",
   "metadata": {},
   "source": [
    "The ratio of survived and death is not the same for each port. This probably has an influence on the final result. "
   ]
  },
  {
   "cell_type": "markdown",
   "id": "c2d3bcef",
   "metadata": {},
   "source": [
    "# Transforming the Dataset"
   ]
  },
  {
   "cell_type": "code",
   "execution_count": 127,
   "id": "f92bf25a",
   "metadata": {},
   "outputs": [],
   "source": [
    "df.drop(columns=[\"Name\", \"Ticket\", \"Cabin\"], inplace=True)"
   ]
  },
  {
   "cell_type": "code",
   "execution_count": 135,
   "id": "5964fb59",
   "metadata": {},
   "outputs": [],
   "source": [
    "df[\"Cherbourg\"] = (df[\"Embarked\"] == \"C\").transform(lambda x : int(x))"
   ]
  },
  {
   "cell_type": "code",
   "execution_count": 137,
   "id": "8be3d29d",
   "metadata": {},
   "outputs": [],
   "source": [
    "df[\"Queenstown\"] = (df[\"Embarked\"] == \"Q\").transform(lambda x : int(x))\n",
    "df[\"Southampton\"] = (df[\"Embarked\"] == \"S\").transform(lambda x : int(x))"
   ]
  },
  {
   "cell_type": "code",
   "execution_count": 139,
   "id": "c7a32c03",
   "metadata": {},
   "outputs": [],
   "source": [
    "df[\"Male\"] = (df[\"Sex\"] == \"male\").transform(lambda x : int(x))\n",
    "df[\"Female\"] = (df[\"Sex\"] == \"female\").transform(lambda x : int(x))"
   ]
  },
  {
   "cell_type": "code",
   "execution_count": 148,
   "id": "96666581",
   "metadata": {},
   "outputs": [],
   "source": [
    "df[\"1_Class\"] = (df[\"Pclass\"] == 1).transform(lambda x : int(x))\n",
    "df[\"2_Class\"] = (df[\"Pclass\"] == 2).transform(lambda x : int(x))\n",
    "df[\"3_Class\"] = (df[\"Pclass\"] == 3).transform(lambda x : int(x))"
   ]
  },
  {
   "cell_type": "code",
   "execution_count": 150,
   "id": "039ff254",
   "metadata": {},
   "outputs": [],
   "source": [
    "df.drop(columns=[\"Sex\", \"Embarked\", \"Pclass\"], inplace=True)"
   ]
  },
  {
   "cell_type": "code",
   "execution_count": 152,
   "id": "7eda8357",
   "metadata": {},
   "outputs": [
    {
     "data": {
      "text/html": [
       "<div>\n",
       "<style scoped>\n",
       "    .dataframe tbody tr th:only-of-type {\n",
       "        vertical-align: middle;\n",
       "    }\n",
       "\n",
       "    .dataframe tbody tr th {\n",
       "        vertical-align: top;\n",
       "    }\n",
       "\n",
       "    .dataframe thead th {\n",
       "        text-align: right;\n",
       "    }\n",
       "</style>\n",
       "<table border=\"1\" class=\"dataframe\">\n",
       "  <thead>\n",
       "    <tr style=\"text-align: right;\">\n",
       "      <th></th>\n",
       "      <th>PassengerId</th>\n",
       "      <th>Survived</th>\n",
       "      <th>Age</th>\n",
       "      <th>SibSp</th>\n",
       "      <th>Parch</th>\n",
       "      <th>Fare</th>\n",
       "      <th>Cherbourg</th>\n",
       "      <th>Queenstown</th>\n",
       "      <th>Southampton</th>\n",
       "      <th>Male</th>\n",
       "      <th>Female</th>\n",
       "      <th>1_Class</th>\n",
       "      <th>2_Class</th>\n",
       "      <th>3_Class</th>\n",
       "    </tr>\n",
       "  </thead>\n",
       "  <tbody>\n",
       "    <tr>\n",
       "      <th>0</th>\n",
       "      <td>1</td>\n",
       "      <td>0</td>\n",
       "      <td>22.0</td>\n",
       "      <td>1</td>\n",
       "      <td>0</td>\n",
       "      <td>7.2500</td>\n",
       "      <td>0</td>\n",
       "      <td>0</td>\n",
       "      <td>1</td>\n",
       "      <td>1</td>\n",
       "      <td>0</td>\n",
       "      <td>0</td>\n",
       "      <td>0</td>\n",
       "      <td>1</td>\n",
       "    </tr>\n",
       "    <tr>\n",
       "      <th>1</th>\n",
       "      <td>2</td>\n",
       "      <td>1</td>\n",
       "      <td>38.0</td>\n",
       "      <td>1</td>\n",
       "      <td>0</td>\n",
       "      <td>71.2833</td>\n",
       "      <td>1</td>\n",
       "      <td>0</td>\n",
       "      <td>0</td>\n",
       "      <td>0</td>\n",
       "      <td>1</td>\n",
       "      <td>1</td>\n",
       "      <td>0</td>\n",
       "      <td>0</td>\n",
       "    </tr>\n",
       "    <tr>\n",
       "      <th>2</th>\n",
       "      <td>3</td>\n",
       "      <td>1</td>\n",
       "      <td>26.0</td>\n",
       "      <td>0</td>\n",
       "      <td>0</td>\n",
       "      <td>7.9250</td>\n",
       "      <td>0</td>\n",
       "      <td>0</td>\n",
       "      <td>1</td>\n",
       "      <td>0</td>\n",
       "      <td>1</td>\n",
       "      <td>0</td>\n",
       "      <td>0</td>\n",
       "      <td>1</td>\n",
       "    </tr>\n",
       "    <tr>\n",
       "      <th>3</th>\n",
       "      <td>4</td>\n",
       "      <td>1</td>\n",
       "      <td>35.0</td>\n",
       "      <td>1</td>\n",
       "      <td>0</td>\n",
       "      <td>53.1000</td>\n",
       "      <td>0</td>\n",
       "      <td>0</td>\n",
       "      <td>1</td>\n",
       "      <td>0</td>\n",
       "      <td>1</td>\n",
       "      <td>1</td>\n",
       "      <td>0</td>\n",
       "      <td>0</td>\n",
       "    </tr>\n",
       "    <tr>\n",
       "      <th>4</th>\n",
       "      <td>5</td>\n",
       "      <td>0</td>\n",
       "      <td>35.0</td>\n",
       "      <td>0</td>\n",
       "      <td>0</td>\n",
       "      <td>8.0500</td>\n",
       "      <td>0</td>\n",
       "      <td>0</td>\n",
       "      <td>1</td>\n",
       "      <td>1</td>\n",
       "      <td>0</td>\n",
       "      <td>0</td>\n",
       "      <td>0</td>\n",
       "      <td>1</td>\n",
       "    </tr>\n",
       "    <tr>\n",
       "      <th>...</th>\n",
       "      <td>...</td>\n",
       "      <td>...</td>\n",
       "      <td>...</td>\n",
       "      <td>...</td>\n",
       "      <td>...</td>\n",
       "      <td>...</td>\n",
       "      <td>...</td>\n",
       "      <td>...</td>\n",
       "      <td>...</td>\n",
       "      <td>...</td>\n",
       "      <td>...</td>\n",
       "      <td>...</td>\n",
       "      <td>...</td>\n",
       "      <td>...</td>\n",
       "    </tr>\n",
       "    <tr>\n",
       "      <th>886</th>\n",
       "      <td>887</td>\n",
       "      <td>0</td>\n",
       "      <td>27.0</td>\n",
       "      <td>0</td>\n",
       "      <td>0</td>\n",
       "      <td>13.0000</td>\n",
       "      <td>0</td>\n",
       "      <td>0</td>\n",
       "      <td>1</td>\n",
       "      <td>1</td>\n",
       "      <td>0</td>\n",
       "      <td>0</td>\n",
       "      <td>1</td>\n",
       "      <td>0</td>\n",
       "    </tr>\n",
       "    <tr>\n",
       "      <th>887</th>\n",
       "      <td>888</td>\n",
       "      <td>1</td>\n",
       "      <td>19.0</td>\n",
       "      <td>0</td>\n",
       "      <td>0</td>\n",
       "      <td>30.0000</td>\n",
       "      <td>0</td>\n",
       "      <td>0</td>\n",
       "      <td>1</td>\n",
       "      <td>0</td>\n",
       "      <td>1</td>\n",
       "      <td>1</td>\n",
       "      <td>0</td>\n",
       "      <td>0</td>\n",
       "    </tr>\n",
       "    <tr>\n",
       "      <th>888</th>\n",
       "      <td>889</td>\n",
       "      <td>0</td>\n",
       "      <td>NaN</td>\n",
       "      <td>1</td>\n",
       "      <td>2</td>\n",
       "      <td>23.4500</td>\n",
       "      <td>0</td>\n",
       "      <td>0</td>\n",
       "      <td>1</td>\n",
       "      <td>0</td>\n",
       "      <td>1</td>\n",
       "      <td>0</td>\n",
       "      <td>0</td>\n",
       "      <td>1</td>\n",
       "    </tr>\n",
       "    <tr>\n",
       "      <th>889</th>\n",
       "      <td>890</td>\n",
       "      <td>1</td>\n",
       "      <td>26.0</td>\n",
       "      <td>0</td>\n",
       "      <td>0</td>\n",
       "      <td>30.0000</td>\n",
       "      <td>1</td>\n",
       "      <td>0</td>\n",
       "      <td>0</td>\n",
       "      <td>1</td>\n",
       "      <td>0</td>\n",
       "      <td>1</td>\n",
       "      <td>0</td>\n",
       "      <td>0</td>\n",
       "    </tr>\n",
       "    <tr>\n",
       "      <th>890</th>\n",
       "      <td>891</td>\n",
       "      <td>0</td>\n",
       "      <td>32.0</td>\n",
       "      <td>0</td>\n",
       "      <td>0</td>\n",
       "      <td>7.7500</td>\n",
       "      <td>0</td>\n",
       "      <td>1</td>\n",
       "      <td>0</td>\n",
       "      <td>1</td>\n",
       "      <td>0</td>\n",
       "      <td>0</td>\n",
       "      <td>0</td>\n",
       "      <td>1</td>\n",
       "    </tr>\n",
       "  </tbody>\n",
       "</table>\n",
       "<p>891 rows × 14 columns</p>\n",
       "</div>"
      ],
      "text/plain": [
       "     PassengerId  Survived   Age  SibSp  Parch     Fare  Cherbourg  \\\n",
       "0              1         0  22.0      1      0   7.2500          0   \n",
       "1              2         1  38.0      1      0  71.2833          1   \n",
       "2              3         1  26.0      0      0   7.9250          0   \n",
       "3              4         1  35.0      1      0  53.1000          0   \n",
       "4              5         0  35.0      0      0   8.0500          0   \n",
       "..           ...       ...   ...    ...    ...      ...        ...   \n",
       "886          887         0  27.0      0      0  13.0000          0   \n",
       "887          888         1  19.0      0      0  30.0000          0   \n",
       "888          889         0   NaN      1      2  23.4500          0   \n",
       "889          890         1  26.0      0      0  30.0000          1   \n",
       "890          891         0  32.0      0      0   7.7500          0   \n",
       "\n",
       "     Queenstown  Southampton  Male  Female  1_Class  2_Class  3_Class  \n",
       "0             0            1     1       0        0        0        1  \n",
       "1             0            0     0       1        1        0        0  \n",
       "2             0            1     0       1        0        0        1  \n",
       "3             0            1     0       1        1        0        0  \n",
       "4             0            1     1       0        0        0        1  \n",
       "..          ...          ...   ...     ...      ...      ...      ...  \n",
       "886           0            1     1       0        0        1        0  \n",
       "887           0            1     0       1        1        0        0  \n",
       "888           0            1     0       1        0        0        1  \n",
       "889           0            0     1       0        1        0        0  \n",
       "890           1            0     1       0        0        0        1  \n",
       "\n",
       "[891 rows x 14 columns]"
      ]
     },
     "execution_count": 152,
     "metadata": {},
     "output_type": "execute_result"
    }
   ],
   "source": [
    "df"
   ]
  },
  {
   "cell_type": "code",
   "execution_count": 183,
   "id": "ef99044a",
   "metadata": {},
   "outputs": [
    {
     "data": {
      "text/plain": [
       "PassengerId      0\n",
       "Survived         0\n",
       "Age            177\n",
       "SibSp            0\n",
       "Parch            0\n",
       "Fare             0\n",
       "Cherbourg        0\n",
       "Queenstown       0\n",
       "Southampton      0\n",
       "Male             0\n",
       "Female           0\n",
       "1_Class          0\n",
       "2_Class          0\n",
       "3_Class          0\n",
       "dtype: int64"
      ]
     },
     "execution_count": 183,
     "metadata": {},
     "output_type": "execute_result"
    }
   ],
   "source": [
    "#Il faut normaliser Fare\n",
    "df.isnull().sum()"
   ]
  },
  {
   "cell_type": "code",
   "execution_count": 185,
   "id": "60191e17",
   "metadata": {},
   "outputs": [
    {
     "data": {
      "text/plain": [
       "PassengerId    0\n",
       "Survived       0\n",
       "Age            0\n",
       "SibSp          0\n",
       "Parch          0\n",
       "Fare           0\n",
       "Cherbourg      0\n",
       "Queenstown     0\n",
       "Southampton    0\n",
       "Male           0\n",
       "Female         0\n",
       "1_Class        0\n",
       "2_Class        0\n",
       "3_Class        0\n",
       "dtype: int64"
      ]
     },
     "execution_count": 185,
     "metadata": {},
     "output_type": "execute_result"
    }
   ],
   "source": [
    "df_age_removed = df.copy()\n",
    "df_age_removed = df_age_removed.loc[df_age_removed[\"Age\"].isnull() == False,:]\n",
    "df_age_removed.isnull().sum()"
   ]
  },
  {
   "cell_type": "markdown",
   "id": "a55a50f2",
   "metadata": {},
   "source": [
    "# Modeles"
   ]
  },
  {
   "cell_type": "code",
   "execution_count": 187,
   "id": "49a327d2",
   "metadata": {},
   "outputs": [],
   "source": [
    "class SimpleLogisticRegression(nn.Module):\n",
    "\t\"\"\"\n",
    "\tMy simple logistic regression model\n",
    "\t\"\"\"\n",
    "\tdef __init__(self, input_size, output_size=1) -> None:\n",
    "\t\tsuper(SimpleLogisticRegression, self).__init__()\n",
    "\t\tself.linear = nn.Linear(input_size, output_size)\n",
    "\n",
    "\tdef forward(self, x):\n",
    "\t\tresult = self.linear(x)\n",
    "\t\treturn torch.sigmoid(result)"
   ]
  },
  {
   "cell_type": "code",
   "execution_count": 188,
   "id": "38327eba",
   "metadata": {},
   "outputs": [],
   "source": [
    "class SimpleNeuralNetwork(nn.Module):\n",
    "\t\"\"\"\n",
    "\tA simple Neural Network\n",
    "\t\"\"\"\n",
    "\tdef __init__(self, input_size, output_size=1, hidden_layer_size=32) -> None:\n",
    "\t\tsuper(SimpleNeuralNetwork, self).__init__()\n",
    "\t\tself.hidden_1 = nn.Linear(input_size, hidden_layer_size)\n",
    "\t\tself.outputLayer = nn.Linear(hidden_layer_size, output_size)\n",
    "\t\n",
    "\tdef forward(self, x):\n",
    "\t\tx = torch.sigmoid(self.hidden_1(x))\n",
    "\t\treturn torch.sigmoid(self.outputLayer(x))\n"
   ]
  },
  {
   "cell_type": "code",
   "execution_count": null,
   "id": "737636ea",
   "metadata": {},
   "outputs": [],
   "source": []
  }
 ],
 "metadata": {
  "kernelspec": {
   "display_name": "Python 3 (ipykernel)",
   "language": "python",
   "name": "python3"
  },
  "language_info": {
   "codemirror_mode": {
    "name": "ipython",
    "version": 3
   },
   "file_extension": ".py",
   "mimetype": "text/x-python",
   "name": "python",
   "nbconvert_exporter": "python",
   "pygments_lexer": "ipython3",
   "version": "3.11.1"
  }
 },
 "nbformat": 4,
 "nbformat_minor": 5
}
